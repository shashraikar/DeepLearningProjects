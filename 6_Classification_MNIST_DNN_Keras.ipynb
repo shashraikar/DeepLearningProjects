{
  "nbformat": 4,
  "nbformat_minor": 0,
  "metadata": {
    "colab": {
      "name": "6. Classification_MNIST_DNN_Keras.ipynb",
      "private_outputs": true,
      "provenance": [],
      "collapsed_sections": [],
      "include_colab_link": true
    },
    "kernelspec": {
      "name": "python3",
      "display_name": "Python 3"
    }
  },
  "cells": [
    {
      "cell_type": "markdown",
      "metadata": {
        "id": "view-in-github",
        "colab_type": "text"
      },
      "source": [
        "<a href=\"https://colab.research.google.com/github/shashraikar/DeepLearningProjects/blob/master/6_Classification_MNIST_DNN_Keras.ipynb\" target=\"_parent\"><img src=\"https://colab.research.google.com/assets/colab-badge.svg\" alt=\"Open In Colab\"/></a>"
      ]
    },
    {
      "cell_type": "markdown",
      "metadata": {
        "id": "2FOkt_PVMd6h"
      },
      "source": [
        "#### Load tensorflow"
      ]
    },
    {
      "cell_type": "code",
      "metadata": {
        "id": "QknvBKm3Md6j"
      },
      "source": [
        "import tensorflow as tf"
      ],
      "execution_count": null,
      "outputs": []
    },
    {
      "cell_type": "markdown",
      "metadata": {
        "id": "QHbDtQQJMd6m"
      },
      "source": [
        "#### Collect Data\n",
        "\n",
        "We will use MNIST dataset for this exercise. This dataset contains images of hand written numbers with each image being a black & white picture of size 28x28. We will download the data using tensorflow API. The dataset has 60,000 training examples and 10,000 test examples. Please note that images have already been converted to numpy arrays."
      ]
    },
    {
      "cell_type": "code",
      "metadata": {
        "id": "AJ6bJeCGMd6n"
      },
      "source": [
        "#Download dataset\n",
        "(trainX, trainY),(testX, testY) = tf.keras.datasets.mnist.load_data()"
      ],
      "execution_count": null,
      "outputs": []
    },
    {
      "cell_type": "code",
      "metadata": {
        "id": "OAv--_-Spq4F"
      },
      "source": [
        "#Check number of training examples and size of each example\n",
        "trainX.shape"
      ],
      "execution_count": null,
      "outputs": []
    },
    {
      "cell_type": "code",
      "source": [
        "type(trainX)"
      ],
      "metadata": {
        "id": "x5gI8DyPCIYN"
      },
      "execution_count": null,
      "outputs": []
    },
    {
      "cell_type": "code",
      "metadata": {
        "id": "mWBOngBwpy2D"
      },
      "source": [
        "#Check number of test examples and size of each example\n",
        "testX.shape"
      ],
      "execution_count": null,
      "outputs": []
    },
    {
      "cell_type": "markdown",
      "metadata": {
        "id": "DeCvkynAMq0J"
      },
      "source": [
        "Visualize data"
      ]
    },
    {
      "cell_type": "code",
      "metadata": {
        "id": "Htwd0ODmMt5d"
      },
      "source": [
        "import matplotlib.pyplot as plt\n",
        "import numpy as np"
      ],
      "execution_count": null,
      "outputs": []
    },
    {
      "cell_type": "code",
      "metadata": {
        "id": "JcotzAiyMp1F"
      },
      "source": [
        "img_num = np.random.randint(0, testX.shape[0]) #Get a random integer between 0 and number of examples in test dataset\n",
        "plt.imshow(testX[img_num],cmap='gray') #Show the image from test dataset\n",
        "plt.suptitle('Number: ' + str(testY[img_num]))\n",
        "plt.show()"
      ],
      "execution_count": null,
      "outputs": []
    },
    {
      "cell_type": "markdown",
      "metadata": {
        "id": "8rxmqpkpMd6r"
      },
      "source": [
        "#### Prepare Labels\n",
        "Convert Output label to multiple values"
      ]
    },
    {
      "cell_type": "code",
      "metadata": {
        "id": "EijfLL3NqABx"
      },
      "source": [
        "#Label for an example\n",
        "testY[0]"
      ],
      "execution_count": null,
      "outputs": []
    },
    {
      "cell_type": "code",
      "metadata": {
        "id": "Jr8yucgyMd6s"
      },
      "source": [
        "trainY = tf.keras.utils.to_categorical(trainY, num_classes=10)\n",
        "testY = tf.keras.utils.to_categorical(testY, num_classes=10)"
      ],
      "execution_count": null,
      "outputs": []
    },
    {
      "cell_type": "code",
      "metadata": {
        "id": "RnY9Bqx0qHkM"
      },
      "source": [
        "#Label for same example after one hot encoding\n",
        "testY[0]"
      ],
      "execution_count": null,
      "outputs": []
    },
    {
      "cell_type": "markdown",
      "metadata": {
        "id": "nACcpZ6oMd6z"
      },
      "source": [
        "#### Build the Graph"
      ]
    },
    {
      "cell_type": "code",
      "metadata": {
        "id": "9h6GBSH6Md61"
      },
      "source": [
        "#Initialize Sequential model\n",
        "model = tf.keras.models.Sequential()\n",
        "\n",
        "#Reshape data from 2D to 1D -> 28x28 to 784\n",
        "model.add(tf.keras.layers.Reshape((784,),input_shape=(28,28,)))"
      ],
      "execution_count": null,
      "outputs": []
    },
    {
      "cell_type": "code",
      "metadata": {
        "id": "hLuGo9xeO_oE"
      },
      "source": [
        "model.output"
      ],
      "execution_count": null,
      "outputs": []
    },
    {
      "cell_type": "code",
      "source": [
        "#Normalize the data\n",
        "model.add(tf.keras.layers.BatchNormalization())"
      ],
      "metadata": {
        "id": "uSEvlYipD3su"
      },
      "execution_count": null,
      "outputs": []
    },
    {
      "cell_type": "code",
      "source": [
        "model.output"
      ],
      "metadata": {
        "id": "AuS1zbHlEIC-"
      },
      "execution_count": null,
      "outputs": []
    },
    {
      "cell_type": "markdown",
      "metadata": {
        "id": "imGSX5XjMd66"
      },
      "source": [
        "Add Hidden Layers"
      ]
    },
    {
      "cell_type": "code",
      "metadata": {
        "id": "Oj8TnaTxMd68"
      },
      "source": [
        "#Add 1st hidden layer\n",
        "model.add(tf.keras.layers.Dense(200, activation='sigmoid'))"
      ],
      "execution_count": null,
      "outputs": []
    },
    {
      "cell_type": "code",
      "metadata": {
        "id": "qPwtp7-yhEJK"
      },
      "source": [
        "model.output"
      ],
      "execution_count": null,
      "outputs": []
    },
    {
      "cell_type": "code",
      "metadata": {
        "id": "BQvERJeKMd7A"
      },
      "source": [
        "#Add 2nd hidden layer\n",
        "model.add(tf.keras.layers.Dense(100, activation='sigmoid'))"
      ],
      "execution_count": null,
      "outputs": []
    },
    {
      "cell_type": "code",
      "metadata": {
        "id": "a_rnC2j2he-P"
      },
      "source": [
        "model.output"
      ],
      "execution_count": null,
      "outputs": []
    },
    {
      "cell_type": "code",
      "metadata": {
        "id": "pwcz87-MMd7E"
      },
      "source": [
        "#Add 3rd hidden layer\n",
        "model.add(tf.keras.layers.Dense(60, activation='sigmoid'))"
      ],
      "execution_count": null,
      "outputs": []
    },
    {
      "cell_type": "code",
      "metadata": {
        "id": "C4j9Cm1IMd7J"
      },
      "source": [
        "#Add 4th hidden layer\n",
        "model.add(tf.keras.layers.Dense(30, activation='sigmoid'))"
      ],
      "execution_count": null,
      "outputs": []
    },
    {
      "cell_type": "code",
      "metadata": {
        "id": "GMkpspE8kqCn"
      },
      "source": [
        "model.output"
      ],
      "execution_count": null,
      "outputs": []
    },
    {
      "cell_type": "markdown",
      "metadata": {
        "id": "vdlnZCPIggCO"
      },
      "source": [
        "Add Output Layer"
      ]
    },
    {
      "cell_type": "code",
      "metadata": {
        "id": "G05v_Zy9Md7Q"
      },
      "source": [
        "#Add OUTPUT layer\n",
        "model.add(tf.keras.layers.Dense(10, activation='softmax'))"
      ],
      "execution_count": null,
      "outputs": []
    },
    {
      "cell_type": "markdown",
      "metadata": {
        "id": "pYNxSLydMd7U"
      },
      "source": [
        "Compile the Model"
      ]
    },
    {
      "cell_type": "code",
      "metadata": {
        "id": "FJWmzZ2vMd7W"
      },
      "source": [
        "#Compile the model\n",
        "model.compile(optimizer='sgd', loss='categorical_crossentropy', \n",
        "              metrics=['accuracy'])"
      ],
      "execution_count": null,
      "outputs": []
    },
    {
      "cell_type": "markdown",
      "metadata": {
        "id": "gW7j_VfVMd7a"
      },
      "source": [
        "Review model"
      ]
    },
    {
      "cell_type": "code",
      "metadata": {
        "id": "ghrWVH2ZMd7b"
      },
      "source": [
        "model.summary()"
      ],
      "execution_count": null,
      "outputs": []
    },
    {
      "cell_type": "markdown",
      "metadata": {
        "id": "Lblu99B6Md7l"
      },
      "source": [
        "#### Train the model"
      ]
    },
    {
      "cell_type": "code",
      "metadata": {
        "id": "eoba1_UocJLO"
      },
      "source": [
        "model_checkpoint = tf.keras.callbacks.ModelCheckpoint('mnist_v1.h5', \n",
        "                                                      save_best_only=True, \n",
        "                                                      monitor='val_accuracy', \n",
        "                                                      mode='max', verbose=1)"
      ],
      "execution_count": null,
      "outputs": []
    },
    {
      "cell_type": "code",
      "metadata": {
        "id": "HyDVYzwxMd7m"
      },
      "source": [
        "model.fit(trainX,trainY,          \n",
        "          validation_data=(testX,testY),\n",
        "          epochs=100,\n",
        "          batch_size=32, \n",
        "          callbacks=[model_checkpoint])"
      ],
      "execution_count": null,
      "outputs": []
    },
    {
      "cell_type": "code",
      "metadata": {
        "id": "LsAgRyxxWT_T"
      },
      "source": [
        "model.save('mnist_sigmoid_v1.h5')"
      ],
      "execution_count": null,
      "outputs": []
    },
    {
      "cell_type": "code",
      "metadata": {
        "id": "2GYh0wkyadQ7"
      },
      "source": [
        "!ls -l"
      ],
      "execution_count": null,
      "outputs": []
    },
    {
      "cell_type": "markdown",
      "metadata": {
        "id": "Cjisqt59gp7l"
      },
      "source": [
        "Load a saved model"
      ]
    },
    {
      "cell_type": "code",
      "metadata": {
        "id": "rtEgk_5tay8e"
      },
      "source": [
        "model = tf.keras.models.load_model('mnist_v1.h5')"
      ],
      "execution_count": null,
      "outputs": []
    },
    {
      "cell_type": "code",
      "metadata": {
        "id": "-zB1EYv9m_4e"
      },
      "source": [
        "model.summary()"
      ],
      "execution_count": null,
      "outputs": []
    },
    {
      "cell_type": "markdown",
      "metadata": {
        "id": "Dzuw6nSOm69M"
      },
      "source": [
        "### Model Prediction"
      ]
    },
    {
      "cell_type": "code",
      "metadata": {
        "id": "ToXxgw8i-gcQ"
      },
      "source": [
        "import numpy as np"
      ],
      "execution_count": null,
      "outputs": []
    },
    {
      "cell_type": "markdown",
      "metadata": {
        "id": "Za3sCZMrf1-g"
      },
      "source": [
        "What input shape model is expecting?"
      ]
    },
    {
      "cell_type": "code",
      "metadata": {
        "id": "FJyCuyBapHYJ"
      },
      "source": [
        "model.input"
      ],
      "execution_count": null,
      "outputs": []
    },
    {
      "cell_type": "markdown",
      "metadata": {
        "id": "H5X0ikgMf56C"
      },
      "source": [
        "Predicting on first example"
      ]
    },
    {
      "cell_type": "code",
      "metadata": {
        "id": "ueHiCTJcse5p"
      },
      "source": [
        "testX[0].shape"
      ],
      "execution_count": null,
      "outputs": []
    },
    {
      "cell_type": "code",
      "metadata": {
        "id": "CDuavBUJdPC2"
      },
      "source": [
        "input_data = np.expand_dims(testX[0], axis=0)\n",
        "input_data.shape"
      ],
      "execution_count": null,
      "outputs": []
    },
    {
      "cell_type": "markdown",
      "metadata": {
        "id": "5b7hZms6f9Pc"
      },
      "source": [
        "Why are we getting the error?"
      ]
    },
    {
      "cell_type": "code",
      "source": [
        "pred = model.predict(input_data)"
      ],
      "metadata": {
        "id": "buI26DcXHR3S"
      },
      "execution_count": null,
      "outputs": []
    },
    {
      "cell_type": "code",
      "metadata": {
        "id": "iIXUb0DSOj46"
      },
      "source": [
        "testX[0].shape"
      ],
      "execution_count": null,
      "outputs": []
    },
    {
      "cell_type": "markdown",
      "metadata": {
        "id": "q8qJZrthgA2o"
      },
      "source": [
        "Building a Batch"
      ]
    },
    {
      "cell_type": "code",
      "metadata": {
        "id": "qTPk1-1-OnMN"
      },
      "source": [
        "input_data = np.expand_dims(testX[0], axis=0)\n",
        "input_data.shape"
      ],
      "execution_count": null,
      "outputs": []
    },
    {
      "cell_type": "markdown",
      "metadata": {
        "id": "gtVUC5_XgDRU"
      },
      "source": [
        "Model Prediction"
      ]
    },
    {
      "cell_type": "code",
      "metadata": {
        "id": "kF2Pc1xZxmn_"
      },
      "source": [
        "pred = model.predict(input_data)"
      ],
      "execution_count": null,
      "outputs": []
    },
    {
      "cell_type": "code",
      "metadata": {
        "id": "81RPh-28PQRE"
      },
      "source": [
        "pred.shape"
      ],
      "execution_count": null,
      "outputs": []
    },
    {
      "cell_type": "code",
      "metadata": {
        "id": "ZHX4aemJzRRF"
      },
      "source": [
        "pred[0]"
      ],
      "execution_count": null,
      "outputs": []
    },
    {
      "cell_type": "code",
      "source": [
        "np.max(pred[0])"
      ],
      "metadata": {
        "id": "u2-09CuueN6D"
      },
      "execution_count": null,
      "outputs": []
    },
    {
      "cell_type": "markdown",
      "metadata": {
        "id": "aKxckoKVgJAS"
      },
      "source": [
        "Predicted Class"
      ]
    },
    {
      "cell_type": "code",
      "metadata": {
        "id": "QXuDg_kTzoFS"
      },
      "source": [
        "np.argmax(pred[0])"
      ],
      "execution_count": null,
      "outputs": []
    },
    {
      "cell_type": "code",
      "metadata": {
        "id": "_B3RtKmluI1G"
      },
      "source": [
        "np.max(pred[0])"
      ],
      "execution_count": null,
      "outputs": []
    },
    {
      "cell_type": "markdown",
      "metadata": {
        "id": "_-dZh-NagLAl"
      },
      "source": [
        "Actual Class"
      ]
    },
    {
      "cell_type": "code",
      "metadata": {
        "id": "Oq28b6Q60bGm"
      },
      "source": [
        "np.argmax(testY[0])"
      ],
      "execution_count": null,
      "outputs": []
    },
    {
      "cell_type": "markdown",
      "metadata": {
        "id": "h0pUXhEfgNXa"
      },
      "source": [
        "Visual confirmation"
      ]
    },
    {
      "cell_type": "code",
      "metadata": {
        "id": "C_dlOJjQzzPa"
      },
      "source": [
        "#Lets print the image as well\n",
        "import matplotlib.pyplot as plt\n",
        "plt.imshow(testX[0],cmap='gray')\n",
        "plt.show()"
      ],
      "execution_count": null,
      "outputs": []
    }
  ]
}